{
 "cells": [
  {
   "cell_type": "markdown",
   "id": "47b9bb99",
   "metadata": {},
   "source": [
    "## Programming Assignment_9\n",
    "----------------"
   ]
  },
  {
   "cell_type": "markdown",
   "id": "c725f7a9",
   "metadata": {},
   "source": [
    "### 1. Write a Python program to check if the given number is a Disarium Number?"
   ]
  },
  {
   "cell_type": "markdown",
   "id": "f0064401",
   "metadata": {},
   "source": [
    "### 2. Write a Python program to print all disarium numbers between 1 to 100?"
   ]
  },
  {
   "cell_type": "markdown",
   "id": "31df1e4a",
   "metadata": {},
   "source": [
    "### 3. Write a Python program to check if the given number is Happy Number?"
   ]
  },
  {
   "cell_type": "markdown",
   "id": "51b265e3",
   "metadata": {},
   "source": [
    "### 4. Write a Python program to print all happy numbers between 1 and 100?"
   ]
  },
  {
   "cell_type": "markdown",
   "id": "6a190ee0",
   "metadata": {},
   "source": [
    "### 5. Write a Python program to determine whether the given number is a Harshad Number?"
   ]
  },
  {
   "cell_type": "markdown",
   "id": "7a7ea92e",
   "metadata": {},
   "source": [
    "### 6. Write a Python program to print all pronic numbers between 1 and 100?"
   ]
  },
  {
   "cell_type": "code",
   "execution_count": null,
   "id": "1ead55f5",
   "metadata": {},
   "outputs": [],
   "source": [
    "def is_disarium_number(number):\n",
    "    number_str = str(number)\n",
    "    \n",
    "    sum_of_powers = 0\n",
    "    \n",
    "    for i, digit_str in enumerate(number_str):\n",
    "        digit = int(digit_str)\n",
    "        position = i + 1  # Position starts from 1\n",
    "        \n",
    "        sum_of_powers += digit ** position\n",
    "    \n",
    "    return sum_of_powers == number\n",
    "\n",
    "num = int(input(\"Enter a number: \"))\n",
    "\n",
    "if is_disarium_number(num):\n",
    "    print(f\"{num} is a Disarium number.\")\n",
    "else:\n",
    "    print(f\"{num} is not a Disarium number.\")\n"
   ]
  },
  {
   "cell_type": "code",
   "execution_count": null,
   "id": "9bc3e3f3",
   "metadata": {},
   "outputs": [],
   "source": [
    "def is_disarium_number(number):\n",
    "    number_str = str(number)\n",
    "    \n",
    "    sum_of_powers = 0\n",
    "    \n",
    "    for i, digit_str in enumerate(number_str):\n",
    "        digit = int(digit_str)\n",
    "        position = i + 1  # Position starts from 1\n",
    "        \n",
    "        sum_of_powers += digit ** position\n",
    "    \n",
    "    return sum_of_powers == number\n",
    "\n",
    "print(\"Disarium numbers between 1 and 100:\")\n",
    "for num in range(1, 101):\n",
    "    if is_disarium_number(num):\n",
    "        print(num)\n"
   ]
  },
  {
   "cell_type": "code",
   "execution_count": null,
   "id": "b30c970a",
   "metadata": {},
   "outputs": [],
   "source": [
    "def isHappyNumber(num):    \n",
    "    rem = sum = 0;    \n",
    "        \n",
    "    while(num > 0):    \n",
    "        rem = num%10;    \n",
    "        sum = sum + (rem*rem);    \n",
    "        num = num//10;    \n",
    "    return sum;    \n",
    "        \n",
    "num = 82;    \n",
    "result = num;    \n",
    "     \n",
    "while(result != 1 and result != 4):    \n",
    "    result = isHappyNumber(result);    \n",
    "     \n",
    "if(result == 1):    \n",
    "    print(str(num) + \" is a happy number\");    \n",
    "elif(result == 4):    \n",
    "    print(str(num) + \" is not a happy number\");   "
   ]
  },
  {
   "cell_type": "code",
   "execution_count": null,
   "id": "66374435",
   "metadata": {},
   "outputs": [],
   "source": [
    "def isHappyNumber(num):    \n",
    "    rem = sum = 0;    \n",
    "        \n",
    "    while(num > 0):    \n",
    "        rem = num%10;    \n",
    "        sum = sum + (rem*rem);    \n",
    "        num = num//10;    \n",
    "    return sum;    \n",
    "            \n",
    "print(\"List of happy numbers between 1 and 100: \");    \n",
    "for i in range(1, 101):    \n",
    "    result = i;    \n",
    "        \n",
    "    while(result != 1 and result != 4):    \n",
    "        result = isHappyNumber(result);    \n",
    "        \n",
    "    if(result == 1):    \n",
    "        print(i),    \n",
    "        print(\" \"),    "
   ]
  },
  {
   "cell_type": "code",
   "execution_count": null,
   "id": "78d3b34a",
   "metadata": {},
   "outputs": [],
   "source": [
    "def is_harshad_number(number):\n",
    "    number_str = str(number)\n",
    "    \n",
    "    digit_sum = sum(int(digit) for digit in number_str)\n",
    "    \n",
    "    return number % digit_sum == 0\n",
    "\n",
    "num = int(input(\"Enter a number: \"))\n",
    "\n",
    "if is_harshad_number(num):\n",
    "    print(f\"{num} is a Harshad Number.\")\n",
    "else:\n",
    "    print(f\"{num} is not a Harshad Number.\")\n"
   ]
  },
  {
   "cell_type": "code",
   "execution_count": null,
   "id": "d1e07eab",
   "metadata": {},
   "outputs": [],
   "source": [
    "def is_pronic_number(number):\n",
    "    for n in range(int(number**0.5) + 1):\n",
    "        if n * (n + 1) == number:\n",
    "            return True\n",
    "    return False\n",
    "\n",
    "print(\"Pronic Numbers between 1 and 100:\")\n",
    "for num in range(1, 101):\n",
    "    if is_pronic_number(num):\n",
    "        print(num)\n"
   ]
  }
 ],
 "metadata": {
  "kernelspec": {
   "display_name": "Python 3 (ipykernel)",
   "language": "python",
   "name": "python3"
  },
  "language_info": {
   "codemirror_mode": {
    "name": "ipython",
    "version": 3
   },
   "file_extension": ".py",
   "mimetype": "text/x-python",
   "name": "python",
   "nbconvert_exporter": "python",
   "pygments_lexer": "ipython3",
   "version": "3.11.4"
  }
 },
 "nbformat": 4,
 "nbformat_minor": 5
}
