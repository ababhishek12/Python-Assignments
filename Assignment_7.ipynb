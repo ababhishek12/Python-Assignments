{
 "cells": [
  {
   "cell_type": "markdown",
   "id": "35297a20",
   "metadata": {},
   "source": [
    "## Programming Basic Assignment 7"
   ]
  },
  {
   "cell_type": "markdown",
   "id": "27349114",
   "metadata": {},
   "source": [
    "### 1. Write a Python Program to find sum of array?"
   ]
  },
  {
   "cell_type": "markdown",
   "id": "171a980d",
   "metadata": {},
   "source": [
    "### 2. Write a Python Program to find largest element in an array?\n"
   ]
  },
  {
   "cell_type": "markdown",
   "id": "21613246",
   "metadata": {},
   "source": [
    "### 3. Write a Python Program for array rotation?"
   ]
  },
  {
   "cell_type": "markdown",
   "id": "3e52d939",
   "metadata": {},
   "source": [
    "### 4. Write a Python Program to Split the array and add the first part to the end?"
   ]
  },
  {
   "cell_type": "markdown",
   "id": "aa375779",
   "metadata": {},
   "source": [
    "### 5. Write a Python Program to check if given array is Monotonic?"
   ]
  },
  {
   "cell_type": "code",
   "execution_count": null,
   "id": "3544dbd0",
   "metadata": {},
   "outputs": [],
   "source": [
    "def sum_of_array(arr):\n",
    "    total = 0\n",
    "    \n",
    "    for num in arr:\n",
    "        total += num\n",
    "    \n",
    "    return total\n",
    "\n",
    "my_array = [1, 2, 3, 4, 5]\n",
    "\n",
    "result = sum_of_array(my_array)\n",
    "\n",
    "print(f\"The sum of the array is: {result}\")\n"
   ]
  },
  {
   "cell_type": "code",
   "execution_count": null,
   "id": "9aa3b0ba",
   "metadata": {},
   "outputs": [],
   "source": [
    "def find_largest_element(arr):\n",
    "    if not arr:\n",
    "        return None  \n",
    "\n",
    "    max_element = arr[0]\n",
    "\n",
    "    for num in arr:\n",
    "        if num > max_element:\n",
    "            max_element = num\n",
    "\n",
    "    return max_element\n",
    "\n",
    "my_array = [10, 12, 16, 20, 30, 35]\n",
    "\n",
    "result = find_largest_element(my_array)\n",
    "\n",
    "if result is not None:\n",
    "    print(f\"The largest element in the array is: {result}\")\n",
    "else:\n",
    "    print(\"The array is empty.\")\n"
   ]
  },
  {
   "cell_type": "code",
   "execution_count": null,
   "id": "c7dea964",
   "metadata": {},
   "outputs": [],
   "source": [
    "def rotate_array_left(arr, positions):\n",
    "    n = len(arr)\n",
    "    positions %= n\n",
    "    \n",
    "    rotated_arr = arr[positions:] + arr[:positions]\n",
    "    \n",
    "    return rotated_arr\n",
    "\n",
    "my_array = [1, 2, 3, 4, 5]\n",
    "\n",
    "rotate_by = int(input(\"Enter the number of positions to rotate left: \"))\n",
    "\n",
    "result = rotate_array_left(my_array, rotate_by)\n",
    "\n",
    "print(f\"Original array: {my_array}\")\n",
    "print(f\"Rotated array: {result}\")\n"
   ]
  },
  {
   "cell_type": "code",
   "execution_count": null,
   "id": "dedcae84",
   "metadata": {},
   "outputs": [],
   "source": [
    "def split_and_add_to_end(arr, split_index):\n",
    "    if split_index < 0 or split_index >= len(arr):\n",
    "        return arr  \n",
    "    \n",
    "    first_part = arr[:split_index]\n",
    "    second_part = arr[split_index:]\n",
    "    \n",
    "    new_arr = second_part + first_part\n",
    "    \n",
    "    return new_arr\n",
    "\n",
    "my_array = [1, 2, 3, 4, 5]\n",
    "\n",
    "split_index = int(input(\"Enter the split index: \"))\n",
    "\n",
    "result = split_and_add_to_end(my_array, split_index)\n",
    "\n",
    "print(f\"Original array: {my_array}\")\n",
    "print(f\"Array after splitting and adding to the end: {result}\")\n"
   ]
  },
  {
   "cell_type": "code",
   "execution_count": null,
   "id": "7338ae6a",
   "metadata": {},
   "outputs": [],
   "source": [
    "def is_monotonic(arr):\n",
    "    increasing = decreasing = True\n",
    "    \n",
    "    for i in range(1, len(arr)):\n",
    "        if arr[i] > arr[i - 1]:\n",
    "            decreasing = False\n",
    "        elif arr[i] < arr[i - 1]:\n",
    "            increasing = False\n",
    "    \n",
    "    return increasing or decreasing\n",
    "\n",
    "my_array = [1, 2, 3, 4, 5]\n",
    "\n",
    "result = is_monotonic(my_array)\n",
    "\n",
    "if result:\n",
    "    print(\"The array is monotonic.\")\n",
    "else:\n",
    "    print(\"The array is not monotonic.\")\n"
   ]
  }
 ],
 "metadata": {
  "kernelspec": {
   "display_name": "Python 3 (ipykernel)",
   "language": "python",
   "name": "python3"
  },
  "language_info": {
   "codemirror_mode": {
    "name": "ipython",
    "version": 3
   },
   "file_extension": ".py",
   "mimetype": "text/x-python",
   "name": "python",
   "nbconvert_exporter": "python",
   "pygments_lexer": "ipython3",
   "version": "3.11.4"
  }
 },
 "nbformat": 4,
 "nbformat_minor": 5
}
