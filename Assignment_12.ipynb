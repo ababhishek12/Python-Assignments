{
 "cells": [
  {
   "cell_type": "markdown",
   "id": "b7231b20",
   "metadata": {},
   "source": [
    "# Python Basic Programming Assignment 12\n",
    "-------------"
   ]
  },
  {
   "cell_type": "markdown",
   "id": "d2ec324d",
   "metadata": {},
   "source": [
    "### 1. Write a Python program to Extract Unique values dictionary values?"
   ]
  },
  {
   "cell_type": "markdown",
   "id": "203bcbc3",
   "metadata": {},
   "source": [
    "### 2. Write a Python program to find the sum of all items in a dictionary?"
   ]
  },
  {
   "cell_type": "markdown",
   "id": "edfbc682",
   "metadata": {},
   "source": [
    "### 3. Write a Python program to Merging two Dictionaries?"
   ]
  },
  {
   "cell_type": "markdown",
   "id": "62eaf687",
   "metadata": {},
   "source": [
    "### 4. Write a Python program to convert key-values list to flat dictionary?"
   ]
  },
  {
   "cell_type": "markdown",
   "id": "fcc5015f",
   "metadata": {},
   "source": [
    "### 5. Write a Python program to insertion at the beginning in OrderedDict?"
   ]
  },
  {
   "cell_type": "markdown",
   "id": "5978c9ab",
   "metadata": {},
   "source": [
    "### 6. Write a Python program to check order of character in string using OrderedDict()?"
   ]
  },
  {
   "cell_type": "markdown",
   "id": "f330da77",
   "metadata": {},
   "source": [
    "### 7. Write a Python program to sort Python Dictionaries by Key or Value?"
   ]
  },
  {
   "cell_type": "code",
   "execution_count": null,
   "id": "98ece5c2",
   "metadata": {},
   "outputs": [],
   "source": [
    "def extract_unique_values(dictionary):\n",
    "    unique_values = set()\n",
    "    for values in dictionary.values():\n",
    "        if isinstance(values, list):\n",
    "            unique_values.update(values)\n",
    "        else:\n",
    "            unique_values.add(values)\n",
    "    return list(unique_values)\n",
    "\n",
    "my_dict = {'c': [4,5,6], 'b': [5,6,7], 'c': 8}\n",
    "unique_values = extract_unique_values(my_dict)\n",
    "print(\"Unique values in the dictionary values:\", unique_values)\n"
   ]
  },
  {
   "cell_type": "code",
   "execution_count": null,
   "id": "6d9251a7",
   "metadata": {},
   "outputs": [],
   "source": [
    "def sum_of_dict_items(dictionary):\n",
    "    return sum(dictionary.values())\n",
    "\n",
    "my_dict = {'a': 1, 'b': 2, 'c': 3}\n",
    "total_sum = sum_of_dict_items(my_dict)\n",
    "print(\"Sum of all items in the dictionary:\", total_sum)\n"
   ]
  },
  {
   "cell_type": "code",
   "execution_count": null,
   "id": "04f2ed47",
   "metadata": {},
   "outputs": [],
   "source": [
    "def merge_two_dicts(dict1, dict2):\n",
    "    merged_dict = dict1.copy()\n",
    "    merged_dict.update(dict2)\n",
    "    return merged_dict\n",
    "\n",
    "dict1 = {'a': 1, 'b': 2}\n",
    "dict2 = {'b': 3, 'c': 4}\n",
    "mer = merge_two_dicts(dict1, dict2)\n",
    "print(\"Merged dictionary:\", mer)\n"
   ]
  },
  {
   "cell_type": "code",
   "execution_count": null,
   "id": "54556ed3",
   "metadata": {},
   "outputs": [],
   "source": [
    "def key_values_to_dict(keys, values):\n",
    "    return dict(zip(keys, values))\n",
    "\n",
    "keys = ['a', 'b', 'c']\n",
    "values = [1, 2, 3]\n",
    "result_dict = key_values_to_dict(keys, values)\n",
    "print(\"Flat dictionary:\", result_dict)\n"
   ]
  },
  {
   "cell_type": "code",
   "execution_count": null,
   "id": "0abc8a63",
   "metadata": {},
   "outputs": [],
   "source": [
    "from collections import OrderedDict\n",
    "\n",
    "def insert_at_beginning(ordered_dict, key, value):\n",
    "    ordered_dict.move_to_end(key, last=False)\n",
    "    ordered_dict[key] = value\n",
    "\n",
    "my_ordered_dict = OrderedDict([('a', 1), ('b', 2), ('c', 3)])\n",
    "insert_at_beginning(my_ordered_dict, 'd', 4)\n",
    "print(\"OrderedDict after insertion at the beginning:\", my_ordered_dict)\n"
   ]
  },
  {
   "cell_type": "code",
   "execution_count": null,
   "id": "940c5ed6",
   "metadata": {},
   "outputs": [],
   "source": [
    "from collections import OrderedDict\n",
    "\n",
    "def check_order_of_characters(input_str, pattern):\n",
    "    pattern_dict = OrderedDict.fromkeys(pattern, 0)\n",
    "    for char in input_str:\n",
    "        if char in pattern_dict:\n",
    "            pattern_dict[char] += 1\n",
    "    return ''.join(pattern_dict.keys()) == pattern\n",
    "\n",
    "input_str = \"engineers\"\n",
    "pattern = \"egr\"\n",
    "if check_order_of_characters(input_str, pattern):\n",
    "    print(f\"The order of characters in '{input_str}' matches the pattern '{pattern}'.\")\n",
    "else:\n",
    "    print(f\"The order of characters in '{input_str}' does not match the pattern '{pattern}'.\")\n"
   ]
  },
  {
   "cell_type": "code",
   "execution_count": null,
   "id": "93dd2e95",
   "metadata": {},
   "outputs": [],
   "source": [
    "my_dict = {'b': 2, 'a': 1, 'c': 3}\n",
    "sorted_dict_by_key = dict(sorted(my_dict.items()))\n",
    "print(\"Sorted dictionary by key:\", sorted_dict_by_key)\n"
   ]
  }
 ],
 "metadata": {
  "kernelspec": {
   "display_name": "Python 3 (ipykernel)",
   "language": "python",
   "name": "python3"
  },
  "language_info": {
   "codemirror_mode": {
    "name": "ipython",
    "version": 3
   },
   "file_extension": ".py",
   "mimetype": "text/x-python",
   "name": "python",
   "nbconvert_exporter": "python",
   "pygments_lexer": "ipython3",
   "version": "3.11.4"
  }
 },
 "nbformat": 4,
 "nbformat_minor": 5
}
