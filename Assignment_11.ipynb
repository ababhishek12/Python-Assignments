{
 "cells": [
  {
   "cell_type": "markdown",
   "id": "53c7e882",
   "metadata": {},
   "source": [
    "# Python Basic Programming Assignment 11\n",
    "--------------------"
   ]
  },
  {
   "cell_type": "markdown",
   "id": "051da140",
   "metadata": {},
   "source": [
    "### 1. Write a Python program to find words which are greater than given length k?"
   ]
  },
  {
   "cell_type": "markdown",
   "id": "26719cbd",
   "metadata": {},
   "source": [
    "### 2. Write a Python program for removing i-th character from a string?"
   ]
  },
  {
   "cell_type": "markdown",
   "id": "51ae6b0f",
   "metadata": {},
   "source": [
    "### 3. Write a Python program to split and join a string?"
   ]
  },
  {
   "cell_type": "markdown",
   "id": "59079fe1",
   "metadata": {},
   "source": [
    "### 4. Write a Python to check if a given string is binary string or not?"
   ]
  },
  {
   "cell_type": "markdown",
   "id": "4d6cf11a",
   "metadata": {},
   "source": [
    "### 5. Write a Python program to find uncommon words from two Strings?"
   ]
  },
  {
   "cell_type": "markdown",
   "id": "e2b24677",
   "metadata": {},
   "source": [
    "### 6. Write a Python to find all duplicate characters in string?"
   ]
  },
  {
   "cell_type": "markdown",
   "id": "1a6af7e4",
   "metadata": {},
   "source": [
    "### 7. Write a Python Program to check if a string contains any special character?"
   ]
  },
  {
   "cell_type": "code",
   "execution_count": null,
   "id": "d3fd582c",
   "metadata": {},
   "outputs": [],
   "source": [
    "def find_words_greater_than_length(text, k):\n",
    "    words = text.split()\n",
    "    result = [word for word in words if len(word) > k]\n",
    "    return result\n",
    "\n",
    "input_text = \"This is a sample sentence with words of varying lengths\"\n",
    "k = 4\n",
    "long_words = find_words_greater_than_length(input_text, k)\n",
    "print(f\"Words greater than length {k}: {long_words}\")\n"
   ]
  },
  {
   "cell_type": "code",
   "execution_count": null,
   "id": "cca5906d",
   "metadata": {},
   "outputs": [],
   "source": [
    "def remove_ith_character(input_str, i):\n",
    "    if i < 0 or i >= len(input_str):\n",
    "        return \"Invalid index\"\n",
    "    return input_str[:i] + input_str[i+1:]\n",
    "\n",
    "input_str = \"Hello, World!\"\n",
    "i = 5\n",
    "new_str = remove_ith_character(input_str, i)\n",
    "print(f\"String after removing character at index {i}: {new_str}\")\n"
   ]
  },
  {
   "cell_type": "code",
   "execution_count": null,
   "id": "305c7769",
   "metadata": {},
   "outputs": [],
   "source": [
    "def split_and_join(input_str):\n",
    "    words = input_str.split()\n",
    "    new_str = \"-\".join(words)\n",
    "    return new_str\n",
    "\n",
    "input_str = \"This is a sample sentence\"\n",
    "new_str = split_and_join(input_str)\n",
    "print(\"String after split and join:\", new_str)\n"
   ]
  },
  {
   "cell_type": "code",
   "execution_count": null,
   "id": "7523264f",
   "metadata": {},
   "outputs": [],
   "source": [
    "def is_binary_string(input_str):\n",
    "    for char in input_str:\n",
    "        if char != '0' and char != '1':\n",
    "            return False\n",
    "    return True\n",
    "\n",
    "binary_str = \"101010101\"\n",
    "if is_binary_string(binary_str):\n",
    "    print(\"The string is a binary string.\")\n",
    "else:\n",
    "    print(\"The string is not a binary string.\")\n"
   ]
  },
  {
   "cell_type": "code",
   "execution_count": null,
   "id": "dc2600ab",
   "metadata": {},
   "outputs": [],
   "source": [
    "def find_uncommon_words(str1, str2):\n",
    "    set1 = set(str1.split())\n",
    "    set2 = set(str2.split())\n",
    "    uncommon_words = set1.symmetric_difference(set2)\n",
    "    return list(uncommon_words)\n",
    "\n",
    "text1 = \"This is the first text.\"\n",
    "text2 = \"This is the second text.\"\n",
    "uncommon = find_uncommon_words(text1, text2)\n",
    "print(\"Uncommon words:\", uncommon)\n"
   ]
  },
  {
   "cell_type": "code",
   "execution_count": null,
   "id": "a1510111",
   "metadata": {},
   "outputs": [],
   "source": [
    "def find_duplicate_characters(input_str):\n",
    "    char_count = {}\n",
    "    duplicates = []\n",
    "    for char in input_str:\n",
    "        if char in char_count:\n",
    "            char_count[char] += 1\n",
    "        else:\n",
    "            char_count[char] = 1\n",
    "    for char, count in char_count.items():\n",
    "        if count > 1:\n",
    "            duplicates.append(char)\n",
    "    return duplicates\n",
    "\n",
    "input_str = \"programming\"\n",
    "duplicate_chars = find_duplicate_characters(input_str)\n",
    "print(\"Duplicate characters:\", duplicate_chars)\n"
   ]
  },
  {
   "cell_type": "code",
   "execution_count": null,
   "id": "7df094ce",
   "metadata": {},
   "outputs": [],
   "source": [
    "import string\n",
    "\n",
    "def contains_special_characters(input_str):\n",
    "    special_characters = set(string.punctuation)\n",
    "    for char in input_str:\n",
    "        if char in special_characters:\n",
    "            return True\n",
    "    return False\n",
    "\n",
    "text = \"Hello, World!\"\n",
    "if contains_special_characters(text):\n",
    "    print(\"The string contains special characters.\")\n",
    "else:\n",
    "    print(\"The string does not contain special characters.\")\n"
   ]
  }
 ],
 "metadata": {
  "kernelspec": {
   "display_name": "Python 3 (ipykernel)",
   "language": "python",
   "name": "python3"
  },
  "language_info": {
   "codemirror_mode": {
    "name": "ipython",
    "version": 3
   },
   "file_extension": ".py",
   "mimetype": "text/x-python",
   "name": "python",
   "nbconvert_exporter": "python",
   "pygments_lexer": "ipython3",
   "version": "3.11.4"
  }
 },
 "nbformat": 4,
 "nbformat_minor": 5
}
