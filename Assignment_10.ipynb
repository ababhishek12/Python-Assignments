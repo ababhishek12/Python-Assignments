{
 "cells": [
  {
   "cell_type": "markdown",
   "id": "3dcb940f",
   "metadata": {},
   "source": [
    "## Python Basic Programming Assignment 10"
   ]
  },
  {
   "cell_type": "markdown",
   "id": "6720790a",
   "metadata": {},
   "source": [
    "### 1. Write a Python program to find sum of elements in list?"
   ]
  },
  {
   "cell_type": "markdown",
   "id": "fe1137c3",
   "metadata": {},
   "source": [
    "### 2. Write a Python program to  Multiply all numbers in the list?"
   ]
  },
  {
   "cell_type": "markdown",
   "id": "078681db",
   "metadata": {},
   "source": [
    "### 3. Write a Python program to find smallest number in a list?"
   ]
  },
  {
   "cell_type": "markdown",
   "id": "12b04397",
   "metadata": {},
   "source": [
    "### 4. Write a Python program to find largest number in a list?"
   ]
  },
  {
   "cell_type": "markdown",
   "id": "86442b51",
   "metadata": {},
   "source": [
    "### 5. Write a Python program to find second largest number in a list?"
   ]
  },
  {
   "cell_type": "markdown",
   "id": "10964d7d",
   "metadata": {},
   "source": [
    "### 6. Write a Python program to find N largest elements from a list?"
   ]
  },
  {
   "cell_type": "markdown",
   "id": "2f1a1e98",
   "metadata": {},
   "source": [
    "### 7. Write a Python program to print even numbers in a list?"
   ]
  },
  {
   "cell_type": "markdown",
   "id": "989bb324",
   "metadata": {},
   "source": [
    "### 8. Write a Python program to print odd numbers in a List?"
   ]
  },
  {
   "cell_type": "markdown",
   "id": "185b7b13",
   "metadata": {},
   "source": [
    "### 9. Write a Python program to Remove empty List from List?"
   ]
  },
  {
   "cell_type": "markdown",
   "id": "278cfacc",
   "metadata": {},
   "source": [
    "### 10. Write a Python program to Cloning or Copying a list?"
   ]
  },
  {
   "cell_type": "markdown",
   "id": "b359bedf",
   "metadata": {},
   "source": [
    "### 11. Write a Python program to Count occurrences of an element in a list?"
   ]
  },
  {
   "cell_type": "code",
   "execution_count": null,
   "id": "7e787023",
   "metadata": {},
   "outputs": [],
   "source": [
    "def find_sum(lst):\n",
    "    return sum(lst)\n",
    "\n",
    "my_list = [4,5,6,7,9]\n",
    "total_sum = find_sum(my_list)\n",
    "print(\"Sum of elements in the list:\", total_sum)\n"
   ]
  },
  {
   "cell_type": "code",
   "execution_count": null,
   "id": "359fd876",
   "metadata": {},
   "outputs": [],
   "source": [
    "def multiply_list(lst):\n",
    "    result = 1\n",
    "    for num in lst:\n",
    "        result *= num\n",
    "    return result\n",
    "\n",
    "my_list = [4,5,6,7,9]\n",
    "product = multiply_list(my_list)\n",
    "print(\"Product of elements in the list:\", product)\n"
   ]
  },
  {
   "cell_type": "code",
   "execution_count": null,
   "id": "f79a881f",
   "metadata": {},
   "outputs": [],
   "source": [
    "def find_smallest(lst):\n",
    "    return min(lst)\n",
    "\n",
    "my_list = [5, 2, 8, 1, 4]\n",
    "smallest = find_smallest(my_list)\n",
    "print(\"Smallest number in the list:\", smallest)\n"
   ]
  },
  {
   "cell_type": "code",
   "execution_count": null,
   "id": "2adaefc3",
   "metadata": {},
   "outputs": [],
   "source": [
    "def find_largest(lst):\n",
    "    return max(lst)\n",
    "\n",
    "my_list =[4,5,6,7,9]\n",
    "largest = find_largest(my_list)\n",
    "print(\"Largest number in the list:\", largest)\n"
   ]
  },
  {
   "cell_type": "code",
   "execution_count": null,
   "id": "187f6357",
   "metadata": {},
   "outputs": [],
   "source": [
    "def find_second_largest(lst):\n",
    "    unique_numbers = list(set(lst))\n",
    "    unique_numbers.sort()\n",
    "    if len(unique_numbers) >= 2:\n",
    "        return unique_numbers[-2]\n",
    "    else:\n",
    "        return None\n",
    "\n",
    "my_list = [4,5,6,7,9]\n",
    "second_largest = find_second_largest(my_list)\n",
    "print(\"Second largest number in the list:\", second_largest)\n"
   ]
  },
  {
   "cell_type": "code",
   "execution_count": null,
   "id": "e17cf1c4",
   "metadata": {},
   "outputs": [],
   "source": [
    "def find_n_largest(lst, n):\n",
    "    lst.sort(reverse=True)\n",
    "    return lst[:n]\n",
    "\n",
    "my_list = [4,5,6,7,9]\n",
    "n = 3\n",
    "n_largest = find_n_largest(my_list, n)\n",
    "print(f\"{n} largest elements in the list:\", n_largest)\n"
   ]
  },
  {
   "cell_type": "code",
   "execution_count": null,
   "id": "981596c3",
   "metadata": {},
   "outputs": [],
   "source": [
    "def print_even_numbers(lst):\n",
    "    even_numbers = [num for num in lst if num % 2 == 0]\n",
    "    print(\"Even numbers in the list:\", even_numbers)\n",
    "\n",
    "my_list = [4,5,6,7,9]\n",
    "print_even_numbers(my_list)\n"
   ]
  },
  {
   "cell_type": "code",
   "execution_count": null,
   "id": "88f616eb",
   "metadata": {},
   "outputs": [],
   "source": [
    "def print_odd_numbers(lst):\n",
    "    odd_numbers = [num for num in lst if num % 2 != 0]\n",
    "    print(\"Odd numbers in the list:\", odd_numbers)\n",
    "\n",
    "my_list = [4,5,6,7,9]\n",
    "print_odd_numbers(my_list)\n"
   ]
  },
  {
   "cell_type": "code",
   "execution_count": null,
   "id": "ca47f73b",
   "metadata": {},
   "outputs": [],
   "source": [
    "def remove_empty_lists(lst):\n",
    "    return [sublist for sublist in lst if sublist]\n",
    "\n",
    "my_list = [4, [], [7, 8], [], 9, []]\n",
    "filtered_list = remove_empty_lists(my_list)\n",
    "print(\"List with empty lists removed:\", filtered_list)\n"
   ]
  },
  {
   "cell_type": "code",
   "execution_count": null,
   "id": "bab6b7ec",
   "metadata": {},
   "outputs": [],
   "source": [
    "def clone_list(lst):\n",
    "    return lst.copy()\n",
    "\n",
    "my_list = [5, 6, 7, 8, 9]\n",
    "cloned_list = clone_list(my_list)\n",
    "print(\"Cloned list:\", cloned_list)\n"
   ]
  },
  {
   "cell_type": "code",
   "execution_count": null,
   "id": "b86bf0e1",
   "metadata": {},
   "outputs": [],
   "source": [
    "def count_occurrences(lst, element):\n",
    "    return lst.count(element)\n",
    "\n",
    "my_list = [8, 2, 4, 7, 9, 8, 7, 5]\n",
    "element_to_count = 2\n",
    "count = count_occurrences(my_list, element_to_count)\n",
    "print(f\"Occurrences of {element_to_count} in the list:\", count)\n"
   ]
  }
 ],
 "metadata": {
  "kernelspec": {
   "display_name": "Python 3 (ipykernel)",
   "language": "python",
   "name": "python3"
  },
  "language_info": {
   "codemirror_mode": {
    "name": "ipython",
    "version": 3
   },
   "file_extension": ".py",
   "mimetype": "text/x-python",
   "name": "python",
   "nbconvert_exporter": "python",
   "pygments_lexer": "ipython3",
   "version": "3.11.4"
  }
 },
 "nbformat": 4,
 "nbformat_minor": 5
}
