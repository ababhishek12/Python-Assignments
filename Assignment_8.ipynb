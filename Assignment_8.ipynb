{
 "cells": [
  {
   "cell_type": "markdown",
   "id": "9b304197",
   "metadata": {},
   "source": [
    "# Python Basic Programming Assignment 8"
   ]
  },
  {
   "cell_type": "markdown",
   "id": "22789ae6",
   "metadata": {},
   "source": [
    "### 1. Write a Python Program to Add Two Matrices?"
   ]
  },
  {
   "cell_type": "markdown",
   "id": "044ceda6",
   "metadata": {},
   "source": [
    "### 2. Write a Python Program to Multiply Two Matrices?"
   ]
  },
  {
   "cell_type": "markdown",
   "id": "5f688e46",
   "metadata": {},
   "source": [
    "### 3. Write a Python Program to Transpose a Matrix?"
   ]
  },
  {
   "cell_type": "markdown",
   "id": "b2849025",
   "metadata": {},
   "source": [
    "\n",
    "### 4. Write a Python Program to Sort Words in Alphabetic Order?\n"
   ]
  },
  {
   "cell_type": "markdown",
   "id": "48ac7b24",
   "metadata": {},
   "source": [
    "### 5. Write a Python Program to Remove Punctuation From a String?"
   ]
  },
  {
   "cell_type": "code",
   "execution_count": null,
   "id": "3f12ca7b",
   "metadata": {},
   "outputs": [],
   "source": [
    "def add_matrices(matrix1, matrix2):\n",
    "    if len(matrix1) != len(matrix2) or len(matrix1[0]) != len(matrix2[0]):\n",
    "        return None  \n",
    "    \n",
    "    result = []\n",
    "    for i in range(len(matrix1)):\n",
    "        row = []\n",
    "        for j in range(len(matrix1[0])):\n",
    "            sum_element = matrix1[i][j] + matrix2[i][j]\n",
    "            row.append(sum_element)\n",
    "        result.append(row)\n",
    "    \n",
    "    return result\n",
    "\n",
    "matrix1 = [[5, 6, 7], [8, 9, 10], [11, 12, 13]]\n",
    "matrix2 = [[14, 15, 16], [17, 18, 19], [20, 21, 22]]\n",
    "\n",
    "result = add_matrices(matrix1, matrix2)\n",
    "\n",
    "if result is not None:\n",
    "    print(\"Matrix 1:\")\n",
    "    for row in matrix1:\n",
    "        print(row)\n",
    "    \n",
    "    print(\"\\nMatrix 2:\")\n",
    "    for row in matrix2:\n",
    "        print(row)\n",
    "    \n",
    "    print(\"\\nSum of the matrices:\")\n",
    "    for row in result:\n",
    "        print(row)\n",
    "else:\n",
    "    print(\"Matrices have different dimensions and cannot be added.\")\n"
   ]
  },
  {
   "cell_type": "code",
   "execution_count": null,
   "id": "28bb31a2",
   "metadata": {},
   "outputs": [],
   "source": [
    "def multiply_matrices(matrix1, matrix2):\n",
    "    if len(matrix1[0]) != len(matrix2):\n",
    "        return None  \n",
    "    \n",
    "    result = []\n",
    "    for i in range(len(matrix1)):\n",
    "        row = []\n",
    "        for j in range(len(matrix2[0])):\n",
    "            sum_element = 0\n",
    "            for k in range(len(matrix2)):\n",
    "                sum_element += matrix1[i][k] * matrix2[k][j]\n",
    "            row.append(sum_element)\n",
    "        result.append(row)\n",
    "    \n",
    "    return result\n",
    "\n",
    "matrix1 = [[1, 2], [3, 4], [5, 6]]\n",
    "matrix2 = [[7, 8], [9, 10]]\n",
    "\n",
    "result = multiply_matrices(matrix1, matrix2)\n",
    "\n",
    "if result is not None:\n",
    "    print(\"Matrix 1:\")\n",
    "    for row in matrix1:\n",
    "        print(row)\n",
    "    \n",
    "    print(\"\\nMatrix 2:\")\n",
    "    for row in matrix2:\n",
    "        print(row)\n",
    "    \n",
    "    print(\"\\nProduct of the matrices:\")\n",
    "    for row in result:\n",
    "        print(row)\n",
    "else:\n",
    "    print(\"Matrices cannot be multiplied due to incompatible dimensions.\")\n"
   ]
  },
  {
   "cell_type": "code",
   "execution_count": null,
   "id": "f6ba9d05",
   "metadata": {},
   "outputs": [],
   "source": [
    "def transpose_matrix(matrix):\n",
    "    rows = len(matrix)\n",
    "    columns = len(matrix[0])\n",
    "\n",
    "    transposed = [[0 for _ in range(rows)] for _ in range(columns)]\n",
    "\n",
    "    for i in range(rows):\n",
    "        for j in range(columns):\n",
    "            transposed[j][i] = matrix[i][j]\n",
    "\n",
    "    return transposed\n",
    "\n",
    "matrix = [\n",
    "    [1, 2, 3],\n",
    "    [4, 5, 6],\n",
    "    [7, 8, 9]\n",
    "]\n",
    "\n",
    "result = transpose_matrix(matrix)\n",
    "\n",
    "print(\"Original Matrix:\")\n",
    "for row in matrix:\n",
    "    print(row)\n",
    "\n",
    "print(\"\\nTransposed Matrix:\")\n",
    "for row in result:\n",
    "    print(row)\n"
   ]
  },
  {
   "cell_type": "code",
   "execution_count": null,
   "id": "5eb821fd",
   "metadata": {},
   "outputs": [],
   "source": [
    "def sort_words_alphabetically(sentence):\n",
    "    words = sentence.split()\n",
    "\n",
    "    sorted_words = sorted(words)\n",
    "\n",
    "    sorted_sentence = ' '.join(sorted_words)\n",
    "\n",
    "    return sorted_sentence\n",
    "\n",
    "input_sentence = \"Python is a programming language\"\n",
    "\n",
    "sorted_sentence = sort_words_alphabetically(input_sentence)\n",
    "\n",
    "print(\"Original Sentence:\", input_sentence)\n",
    "print(\"Sentence with Words Sorted Alphabetically:\", sorted_sentence)\n"
   ]
  },
  {
   "cell_type": "code",
   "execution_count": null,
   "id": "dd9971ba",
   "metadata": {},
   "outputs": [],
   "source": [
    "import string\n",
    "\n",
    "def remove_punctuation(input_string):\n",
    "    translator = str.maketrans('', '', string.punctuation)\n",
    "\n",
    "    cleaned_string = input_string.translate(translator)\n",
    "\n",
    "    return cleaned_string\n",
    "\n",
    "input_string = \"Hello, this is a sample sentence! It contains some punctuation.\"\n",
    "\n",
    "cleaned_string = remove_punctuation(input_string)\n",
    "\n",
    "print(\"Original String:\")\n",
    "print(input_string)\n",
    "print(\"\\nString with Punctuation Removed:\")\n",
    "print(cleaned_string)\n"
   ]
  }
 ],
 "metadata": {
  "kernelspec": {
   "display_name": "Python 3 (ipykernel)",
   "language": "python",
   "name": "python3"
  },
  "language_info": {
   "codemirror_mode": {
    "name": "ipython",
    "version": 3
   },
   "file_extension": ".py",
   "mimetype": "text/x-python",
   "name": "python",
   "nbconvert_exporter": "python",
   "pygments_lexer": "ipython3",
   "version": "3.11.4"
  }
 },
 "nbformat": 4,
 "nbformat_minor": 5
}
