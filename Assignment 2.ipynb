{
 "cells": [
  {
   "cell_type": "markdown",
   "id": "08c66ea5",
   "metadata": {
    "id": "08c66ea5"
   },
   "source": [
    "## Programming Assignment_2\n",
    "-------------"
   ]
  },
  {
   "cell_type": "markdown",
   "id": "4e50cf42",
   "metadata": {
    "id": "4e50cf42"
   },
   "source": [
    "1. Write a Python program to convert kilometers to miles?\n"
   ]
  },
  {
   "cell_type": "markdown",
   "id": "0df4e6bf",
   "metadata": {
    "id": "0df4e6bf"
   },
   "source": [
    "### 2.Write a Python program to convert Celsius to Fahrenheit?"
   ]
  },
  {
   "cell_type": "markdown",
   "id": "Q-iUx4CQoppc",
   "metadata": {
    "id": "Q-iUx4CQoppc"
   },
   "source": []
  },
  {
   "cell_type": "markdown",
   "id": "46129b8e",
   "metadata": {
    "id": "46129b8e"
   },
   "source": [
    "3. Write a Python program to display calendar?\n"
   ]
  },
  {
   "cell_type": "markdown",
   "id": "db2bf0f7",
   "metadata": {
    "id": "db2bf0f7"
   },
   "source": [
    "### 4. Write a Python program to solve quadratic equation?"
   ]
  },
  {
   "cell_type": "markdown",
   "id": "f70f74c9",
   "metadata": {
    "id": "f70f74c9"
   },
   "source": [
    "5. Write a Python program to swap two variables without temp variable?"
   ]
  },
  {
   "cell_type": "code",
   "execution_count": 1,
   "id": "f2e62e51",
   "metadata": {},
   "outputs": [
    {
     "name": "stdout",
     "output_type": "stream",
     "text": [
      "Enter distance in kilometers: 10\n",
      "10.00 kilometers is equal to 6.21 miles.\n"
     ]
    }
   ],
   "source": [
    "def kilometers_to_miles(kilometers):\n",
    "    conversion_factor = 0.621371\n",
    "    miles = kilometers * conversion_factor\n",
    "    return miles\n",
    "\n",
    "kilometers = float(input(\"Enter distance in kilometers: \"))\n",
    "\n",
    "miles = kilometers_to_miles(kilometers)\n",
    "\n",
    "print(\"{:.2f} kilometers is equal to {:.2f} miles.\".format(kilometers, miles))"
   ]
  },
  {
   "cell_type": "code",
   "execution_count": 2,
   "id": "f8e8bf91",
   "metadata": {},
   "outputs": [
    {
     "name": "stdout",
     "output_type": "stream",
     "text": [
      "Enter temperature in Celsius: 10\n",
      "10.00 degrees Celsius is equal to 50.00 degrees Fahrenheit.\n"
     ]
    }
   ],
   "source": [
    "def celsius_to_fahrenheit(celsius):\n",
    "    fahrenheit = (celsius * 9/5) + 32\n",
    "    return fahrenheit\n",
    "\n",
    "celsius = float(input(\"Enter temperature in Celsius: \"))\n",
    "\n",
    "fahrenheit = celsius_to_fahrenheit(celsius)\n",
    "\n",
    "print(\"{:.2f} degrees Celsius is equal to {:.2f} degrees Fahrenheit.\".format(celsius, fahrenheit))"
   ]
  },
  {
   "cell_type": "code",
   "execution_count": 3,
   "id": "812b6a87",
   "metadata": {},
   "outputs": [
    {
     "name": "stdout",
     "output_type": "stream",
     "text": [
      "Enter year (e.g., 2023): 1998\n",
      "Enter month (1-12): 7\n",
      "\n",
      "Calendar for 1998-7:\n",
      "     July 1998\n",
      "Mo Tu We Th Fr Sa Su\n",
      "       1  2  3  4  5\n",
      " 6  7  8  9 10 11 12\n",
      "13 14 15 16 17 18 19\n",
      "20 21 22 23 24 25 26\n",
      "27 28 29 30 31\n",
      "\n"
     ]
    }
   ],
   "source": [
    "import calendar\n",
    "\n",
    "year = int(input(\"Enter year (e.g., 2023): \"))\n",
    "month = int(input(\"Enter month (1-12): \"))\n",
    "\n",
    "cal = calendar.month(year, month)\n",
    "print(\"\\nCalendar for {}-{}:\".format(year, month))\n",
    "print(cal)"
   ]
  },
  {
   "cell_type": "code",
   "execution_count": 6,
   "id": "0d5cdf1e",
   "metadata": {},
   "outputs": [
    {
     "name": "stdout",
     "output_type": "stream",
     "text": [
      "The solution are (-3+0j) and (-2+0j)\n"
     ]
    }
   ],
   "source": [
    "\n",
    "import cmath\n",
    "\n",
    "a = 1\n",
    "b = 5\n",
    "c = 6\n",
    "\n",
    "\n",
    "d = (b**2) - (4*a*c)\n",
    "\n",
    "\n",
    "sol1 = (-b-cmath.sqrt(d))/(2*a)\n",
    "sol2 = (-b+cmath.sqrt(d))/(2*a)\n",
    "\n",
    "print('The solution are {0} and {1}'.format(sol1,sol2))"
   ]
  },
  {
   "cell_type": "code",
   "execution_count": 7,
   "id": "1df20ae1",
   "metadata": {},
   "outputs": [
    {
     "name": "stdout",
     "output_type": "stream",
     "text": [
      "Enter the first variable: x\n",
      "Enter the second variable: y\n",
      "Original values:\n",
      "var1 = x\n",
      "var2 = y\n",
      "\n",
      "Swapped values:\n",
      "var1 = y\n",
      "var2 = x\n"
     ]
    }
   ],
   "source": [
    "var1 = input(\"Enter the first variable: \")\n",
    "var2 = input(\"Enter the second variable: \")\n",
    "\n",
    "\n",
    "print(\"Original values:\")\n",
    "print(\"var1 =\", var1)\n",
    "print(\"var2 =\", var2)\n",
    "\n",
    "\n",
    "var1, var2 = var2, var1\n",
    "\n",
    "\n",
    "print(\"\\nSwapped values:\")\n",
    "print(\"var1 =\", var1)\n",
    "print(\"var2 =\", var2)"
   ]
  },
  {
   "cell_type": "code",
   "execution_count": null,
   "id": "930e636a",
   "metadata": {},
   "outputs": [],
   "source": []
  }
 ],
 "metadata": {
  "colab": {
   "provenance": []
  },
  "kernelspec": {
   "display_name": "Python 3 (ipykernel)",
   "language": "python",
   "name": "python3"
  },
  "language_info": {
   "codemirror_mode": {
    "name": "ipython",
    "version": 3
   },
   "file_extension": ".py",
   "mimetype": "text/x-python",
   "name": "python",
   "nbconvert_exporter": "python",
   "pygments_lexer": "ipython3",
   "version": "3.11.4"
  }
 },
 "nbformat": 4,
 "nbformat_minor": 5
}
